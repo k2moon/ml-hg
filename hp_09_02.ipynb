{
  "cells": [
    {
      "cell_type": "markdown",
      "metadata": {
        "id": "view-in-github",
        "colab_type": "text"
      },
      "source": [
        "<a href=\"https://colab.research.google.com/github/k2moon/ml-hg/blob/main/hp_09_02.ipynb\" target=\"_parent\"><img src=\"https://colab.research.google.com/assets/colab-badge.svg\" alt=\"Open In Colab\"/></a>"
      ]
    },
    {
      "cell_type": "markdown",
      "metadata": {
        "id": "MusV5YYT6kQF"
      },
      "source": [
        "# 순환 신경망으로 IMDB 리뷰 분류하기\n",
        "---\n",
        "- 리뷰 긍정과 부정 분류"
      ]
    },
    {
      "cell_type": "markdown",
      "source": [
        "## 핵심 키워드\n",
        "---\n",
        "- 말뭉치\n",
        "- 토큰\n",
        "- 원핫인코딩\n",
        "- 단어 임베딩"
      ],
      "metadata": {
        "id": "oU6Ocga_TPnm"
      }
    },
    {
      "cell_type": "markdown",
      "metadata": {
        "id": "9uYfRb5-6kQQ"
      },
      "source": [
        "<table align=\"left\">\n",
        "  <td>\n",
        "    <a target=\"_blank\" href=\"https://colab.research.google.com/github/rickiepark/hg-mldl/blob/master/9-2.ipynb\"><img src=\"https://www.tensorflow.org/images/colab_logo_32px.png\" />구글 코랩에서 실행하기</a>\n",
        "  </td>\n",
        "</table>"
      ]
    },
    {
      "cell_type": "code",
      "execution_count": 1,
      "metadata": {
        "id": "qpjZlxcUQKpS"
      },
      "outputs": [],
      "source": [
        "# 실행마다 동일한 결과를 얻기 위해 케라스에 랜덤 시드를 사용하고 텐서플로 연산을 결정적으로 만듭니다. \n",
        "import tensorflow as tf\n",
        "\n",
        "tf.keras.utils.set_random_seed(42)\n",
        "tf.config.experimental.enable_op_determinism()"
      ]
    },
    {
      "cell_type": "markdown",
      "source": [
        "## 자연어 처리 natural language processing NLP\n",
        "---\n",
        "- 컴퓨터를 사용해 인간의 언어를 처리하는 것\n",
        "- 대표적으로 음성 인식, 기계번역, 감성 분석등\n",
        "- 말뭉치 : 자연어 처리분야에서의 훈련 데이터"
      ],
      "metadata": {
        "id": "ybHJSP46UA8c"
      }
    },
    {
      "cell_type": "markdown",
      "source": [
        "### 토큰 token\n",
        "---\n",
        "- 텍스트 데이터의 경우 단어를 숫자로 변경하는 작업이 필요\n",
        "- 일반적인 방법은 단어마다 고유한 정수를 부여하는 것\n",
        "- 정수는 단어의 의미나 크기와 관련이 없음\n",
        "- 일반적으로 영어는 공백으로 단어를 분리 => 토큰 token\n",
        "- 하나의 샘플은 여러개의 토큰으로 이루어져 있고 1개의 토큰이 하나의 타임스텝에 해당 함\n",
        "\n",
        "### 어휘 사전\n",
        "---\n",
        "- 훈련 세트에서 고유한 단어를 뽑아 만든 목록\n",
        "- 토큰에 할당하는 정수 중 몇 개는 특정한 용도로 예약 사용\n",
        "- 0은 패딩, 1은 문장의 시작, 2는 테스트 세트안에 어휘 사전에 없는 토큰\n",
        "\n",
        "\n",
        "### 한글 문장의 토큰\n",
        "---\n",
        "- 한글은 단어에 조사 부분이 있어 형태소 분석을 통해서 분리\n",
        "- KoNLPy 사용\n",
        "- KoNLPy 설치 https://konlpy.org/ko/latest/install/\n",
        "- 네이버 영화 리뷰 분석 1 https://tinyurl.com/4949vmwr\n",
        "- 네이버 영화 리뷰 분석 2 https://tinyurl.com/ywk9kz6k\n",
        "- 네이버 영화 리뷰 분석 3 https://wikidocs.net/44249"
      ],
      "metadata": {
        "id": "W6xCtpnPVndz"
      }
    },
    {
      "cell_type": "markdown",
      "metadata": {
        "id": "S1A-DDIQ6kQQ"
      },
      "source": [
        "## IMDB 리뷰 데이터셋\n",
        "---\n",
        "- 유명한 인터넷 영화 데이터베이스 imdb.com에서 수집한 리뷰를 감상평에 따라 긍정과 부정으로 분류해 놓은 데이터 셋\n",
        "- 총 50000개의 샘플, 훈련데이터 25000개, 테스트 데이터 25000개\n",
        "- 텐서플로에 이미 정수로 바꾼 데이터 사용\n",
        "- tensorflow.keras.datasets import imdb\n",
        "- num_words 파라미터로 가장 많이 사용된 어휘 사전 단어수 수 지정\n",
        "- 훈련 세트와 테스트 세트는 리뷰 텍스트 마다 크기가 달라 파이썬의 리스트를 데이터로 하는 1차원으로 담겨 있음\n",
        "- Numpy 2차원으로 하기에는 메모리 낭비가 됨"
      ]
    },
    {
      "cell_type": "code",
      "execution_count": 1,
      "metadata": {
        "id": "sZoZm1ZO6kQR",
        "colab": {
          "base_uri": "https://localhost:8080/"
        },
        "outputId": "5ef48a86-5dd0-4ed8-8a8b-4142fa2e9794"
      },
      "outputs": [
        {
          "output_type": "stream",
          "name": "stdout",
          "text": [
            "Downloading data from https://storage.googleapis.com/tensorflow/tf-keras-datasets/imdb.npz\n",
            "17464789/17464789 [==============================] - 0s 0us/step\n"
          ]
        }
      ],
      "source": [
        "from tensorflow.keras.datasets import imdb\n",
        "\n",
        "# num_words=500 가장 많이 등장하는 단어 500개 어휘 사전으로 만듦\n",
        "(train_input, train_target), (test_input, test_target) = imdb.load_data(\n",
        "    num_words=500)"
      ]
    },
    {
      "cell_type": "code",
      "execution_count": 2,
      "metadata": {
        "colab": {
          "base_uri": "https://localhost:8080/"
        },
        "id": "HTFjz6k06kQR",
        "outputId": "dc17b972-1d6e-4023-eb01-5ac9d26b9f7a"
      },
      "outputs": [
        {
          "output_type": "stream",
          "name": "stdout",
          "text": [
            "(25000,) (25000,)\n"
          ]
        }
      ],
      "source": [
        "# 각 25000 개\n",
        "print(train_input.shape, test_input.shape)"
      ]
    },
    {
      "cell_type": "code",
      "execution_count": 3,
      "metadata": {
        "colab": {
          "base_uri": "https://localhost:8080/"
        },
        "id": "4jMLURzw6kQS",
        "outputId": "31daf583-32f8-456d-dc76-dbe3cb78554a"
      },
      "outputs": [
        {
          "output_type": "stream",
          "name": "stdout",
          "text": [
            "218\n"
          ]
        }
      ],
      "source": [
        "# 첫 번재 리뷰\n",
        "print(len(train_input[0]))"
      ]
    },
    {
      "cell_type": "code",
      "execution_count": 4,
      "metadata": {
        "colab": {
          "base_uri": "https://localhost:8080/"
        },
        "id": "xdO834PL6kQT",
        "outputId": "f9cfa9b1-b62b-41aa-88fe-add872a50ecc"
      },
      "outputs": [
        {
          "output_type": "stream",
          "name": "stdout",
          "text": [
            "189\n"
          ]
        }
      ],
      "source": [
        "# 두 번재 리뷰\n",
        "print(len(train_input[1]))"
      ]
    },
    {
      "cell_type": "code",
      "source": [
        "# Numpy의 데이터로 파이썬 리스트가 들어가 있음\n",
        "type(train_input),type(train_input[0])"
      ],
      "metadata": {
        "colab": {
          "base_uri": "https://localhost:8080/"
        },
        "id": "Er5H-PLpt9Gx",
        "outputId": "ceffc484-3847-4ccd-d710-16fdc682ea64"
      },
      "execution_count": 5,
      "outputs": [
        {
          "output_type": "execute_result",
          "data": {
            "text/plain": [
              "(numpy.ndarray, list)"
            ]
          },
          "metadata": {},
          "execution_count": 5
        }
      ]
    },
    {
      "cell_type": "code",
      "execution_count": 6,
      "metadata": {
        "colab": {
          "base_uri": "https://localhost:8080/"
        },
        "id": "QNuzGQ2c6kQT",
        "outputId": "dab76719-95ff-4442-f8ef-b62bd4e3202e"
      },
      "outputs": [
        {
          "output_type": "stream",
          "name": "stdout",
          "text": [
            "[1, 14, 22, 16, 43, 2, 2, 2, 2, 65, 458, 2, 66, 2, 4, 173, 36, 256, 5, 25, 100, 43, 2, 112, 50, 2, 2, 9, 35, 480, 284, 5, 150, 4, 172, 112, 167, 2, 336, 385, 39, 4, 172, 2, 2, 17, 2, 38, 13, 447, 4, 192, 50, 16, 6, 147, 2, 19, 14, 22, 4, 2, 2, 469, 4, 22, 71, 87, 12, 16, 43, 2, 38, 76, 15, 13, 2, 4, 22, 17, 2, 17, 12, 16, 2, 18, 2, 5, 62, 386, 12, 8, 316, 8, 106, 5, 4, 2, 2, 16, 480, 66, 2, 33, 4, 130, 12, 16, 38, 2, 5, 25, 124, 51, 36, 135, 48, 25, 2, 33, 6, 22, 12, 215, 28, 77, 52, 5, 14, 407, 16, 82, 2, 8, 4, 107, 117, 2, 15, 256, 4, 2, 7, 2, 5, 2, 36, 71, 43, 2, 476, 26, 400, 317, 46, 7, 4, 2, 2, 13, 104, 88, 4, 381, 15, 297, 98, 32, 2, 56, 26, 141, 6, 194, 2, 18, 4, 226, 22, 21, 134, 476, 26, 480, 5, 144, 30, 2, 18, 51, 36, 28, 224, 92, 25, 104, 4, 226, 65, 16, 38, 2, 88, 12, 16, 283, 5, 16, 2, 113, 103, 32, 15, 16, 2, 19, 178, 32]\n"
          ]
        }
      ],
      "source": [
        "# 첫번째 리뷰 확인, 1문장의 시작, 500개 어휘 사전에 없는 단어는 2로 표시됨\n",
        "print(train_input[0])"
      ]
    },
    {
      "cell_type": "code",
      "execution_count": 7,
      "metadata": {
        "colab": {
          "base_uri": "https://localhost:8080/"
        },
        "id": "In8Qzltz6kQT",
        "outputId": "08bb1529-4729-4cdb-a074-640861b159cf"
      },
      "outputs": [
        {
          "output_type": "stream",
          "name": "stdout",
          "text": [
            "[1 0 0 1 0 0 1 0 1 0 1 0 0 0 0 0 1 1 0 1]\n"
          ]
        }
      ],
      "source": [
        "# 0 부정, 1 긍정\n",
        "print(train_target[:20])"
      ]
    },
    {
      "cell_type": "code",
      "execution_count": 8,
      "metadata": {
        "id": "0-zjNgBw6kQU"
      },
      "outputs": [],
      "source": [
        "# 훈련세트 검증세트로 나누기\n",
        "from sklearn.model_selection import train_test_split\n",
        "\n",
        "train_input, val_input, train_target, val_target = train_test_split(\n",
        "    train_input, train_target, test_size=0.2, random_state=42)"
      ]
    },
    {
      "cell_type": "markdown",
      "source": [
        "**훈련 세트 살펴 보기**"
      ],
      "metadata": {
        "id": "Fbmwhu6pzdlO"
      }
    },
    {
      "cell_type": "code",
      "execution_count": 9,
      "metadata": {
        "id": "sRVvgntx6kQU"
      },
      "outputs": [],
      "source": [
        "import numpy as np\n",
        "\n",
        "lengths = np.array([len(x) for x in train_input])"
      ]
    },
    {
      "cell_type": "code",
      "execution_count": 10,
      "metadata": {
        "colab": {
          "base_uri": "https://localhost:8080/"
        },
        "id": "p76m_61w6kQU",
        "outputId": "9d39092c-d51f-4f3a-fe76-6fbb76096017"
      },
      "outputs": [
        {
          "output_type": "stream",
          "name": "stdout",
          "text": [
            "239.00925 178.0\n"
          ]
        }
      ],
      "source": [
        "# 리뷰 평균 단어 갯수, 중간값\n",
        "print(np.mean(lengths), np.median(lengths))"
      ]
    },
    {
      "cell_type": "markdown",
      "source": [
        "- 평균이 중간값 보다 커서 왼쪽에 치우친 분포 예상 됨"
      ],
      "metadata": {
        "id": "cmAlA71Bzys9"
      }
    },
    {
      "cell_type": "code",
      "execution_count": 11,
      "metadata": {
        "colab": {
          "base_uri": "https://localhost:8080/",
          "height": 279
        },
        "id": "TVDrsRYF6kQV",
        "outputId": "eda38c43-2ec3-4719-fcc0-e212064103c5"
      },
      "outputs": [
        {
          "output_type": "display_data",
          "data": {
            "text/plain": [
              "<Figure size 432x288 with 1 Axes>"
            ],
            "image/png": "[encoded data removed]"
          },
          "metadata": {
            "needs_background": "light"
          }
        }
      ],
      "source": [
        "import matplotlib.pyplot as plt\n",
        "\n",
        "plt.hist(lengths)\n",
        "plt.xlabel('length')\n",
        "plt.ylabel('frequency')\n",
        "plt.show()"
      ]
    },
    {
      "cell_type": "markdown",
      "source": [
        "### 패딩 padding\n",
        "---\n",
        "\n",
        "- 대부분의 길이는 300 미만\n",
        "- 오른쪽에 아주 1000이 넘는 큰 데이터 있어 평균이 높아 졌음\n",
        "- 리뷰는 보통 짧으니 100개의 단어를 사용한다고 가정\n",
        "- 패딩 : 샘플의 길이를 맞추는 작업\n",
        "- 케라스의 pad_sequences() 메서드 max_len 파라미터 사용\n",
        "- max_len 보다 큰경우는 잘라내고 작으면 0으로 채움\n",
        "- truncating 파라미터 앞부분을 버릴 지 뒤를 버릴지 결정, 기본은 `pre`로 앞부분을 버림, 뒷 부분의 정보가 더 유용하다고 기대하기 때문\n",
        "- 반대는 `post` 지정\n",
        "- max_len 보다 작은 경우 0값은 앞 부분부터 채워 나감 => **마지막 단어가 셀의 은닉 상태에 가장 큰 영향을 미치기 때문**"
      ],
      "metadata": {
        "id": "SRVv-iqa02ne"
      }
    },
    {
      "cell_type": "code",
      "execution_count": 12,
      "metadata": {
        "id": "fbLSFToP6kQV"
      },
      "outputs": [],
      "source": [
        "from tensorflow.keras.preprocessing.sequence import pad_sequences\n",
        "\n",
        "train_seq = pad_sequences(train_input, maxlen=100)"
      ]
    },
    {
      "cell_type": "code",
      "execution_count": 13,
      "metadata": {
        "colab": {
          "base_uri": "https://localhost:8080/"
        },
        "id": "3c86x0Yj6kQV",
        "outputId": "133a4393-1bee-44af-cd1d-e3d48e77e4e6"
      },
      "outputs": [
        {
          "output_type": "stream",
          "name": "stdout",
          "text": [
            "(20000, 100)\n"
          ]
        }
      ],
      "source": [
        "print(train_seq.shape)"
      ]
    },
    {
      "cell_type": "code",
      "execution_count": 14,
      "metadata": {
        "colab": {
          "base_uri": "https://localhost:8080/"
        },
        "id": "JuP0QJaU6kQW",
        "outputId": "3e23fde0-77a5-4c2a-d3b3-94a1932fb2ff"
      },
      "outputs": [
        {
          "output_type": "stream",
          "name": "stdout",
          "text": [
            "[ 10   4  20   9   2 364 352   5  45   6   2   2  33 269   8   2 142   2\n",
            "   5   2  17  73  17 204   5   2  19  55   2   2  92  66 104  14  20  93\n",
            "  76   2 151  33   4  58  12 188   2 151  12 215  69 224 142  73 237   6\n",
            "   2   7   2   2 188   2 103  14  31  10  10 451   7   2   5   2  80  91\n",
            "   2  30   2  34  14  20 151  50  26 131  49   2  84  46  50  37  80  79\n",
            "   6   2  46   7  14  20  10  10 470 158]\n"
          ]
        }
      ],
      "source": [
        "# 0이 없는 것으로 보아 100 보다 큰 리뷰\n",
        "print(train_seq[0])"
      ]
    },
    {
      "cell_type": "code",
      "execution_count": 15,
      "metadata": {
        "colab": {
          "base_uri": "https://localhost:8080/"
        },
        "id": "6t8kaDji6kQW",
        "outputId": "4c0906c8-81f9-4e5b-e92b-06e230eb2f39"
      },
      "outputs": [
        {
          "output_type": "stream",
          "name": "stdout",
          "text": [
            "[6, 2, 46, 7, 14, 20, 10, 10, 470, 158]\n"
          ]
        }
      ],
      "source": [
        "# 리뷰의 뒷부분 인지 확인\n",
        "print(train_input[0][-10:])"
      ]
    },
    {
      "cell_type": "code",
      "execution_count": 17,
      "metadata": {
        "colab": {
          "base_uri": "https://localhost:8080/"
        },
        "id": "Emmoztwa6kQX",
        "outputId": "74040a84-1054-4f4e-d422-4f14342d0f54",
        "scrolled": true
      },
      "outputs": [
        {
          "output_type": "stream",
          "name": "stdout",
          "text": [
            "[  0   0   0   0   1   2 195  19  49   2   2 190   4   2 352   2 183  10\n",
            "  10  13  82  79   4   2  36  71 269   8   2  25  19  49   7   4   2   2\n",
            "   2   2   2  10  10  48  25  40   2  11   2   2  40   2   2   5   4   2\n",
            "   2  95  14 238  56 129   2  10  10  21   2  94 364 352   2   2  11 190\n",
            "  24 484   2   7  94 205 405  10  10  87   2  34  49   2   7   2   2   2\n",
            "   2   2 290   2  46  48  64  18   4   2]\n"
          ]
        }
      ],
      "source": [
        "# 앞 부분에 패딩 0값이 채워져 있음\n",
        "print(train_seq[5])"
      ]
    },
    {
      "cell_type": "code",
      "execution_count": 18,
      "metadata": {
        "id": "ZeFmsjOd6kQX"
      },
      "outputs": [],
      "source": [
        "# 검증 세트 패딩 작업\n",
        "val_seq = pad_sequences(val_input, maxlen=100)"
      ]
    },
    {
      "cell_type": "markdown",
      "metadata": {
        "id": "9xab0nu_6kQX"
      },
      "source": [
        "## 순환 신경망 만들기\n",
        "---\n",
        "- 케라스는 여려 종류의 RNN 클래스 제공\n",
        "- 가장 간단한 것은 SimpleRNN 클래스\n",
        "- input_shape 입력 차원 지정 (패딩값,어휘 사전 원핫인코딩 크기)\n",
        "- 원핫인코딩값으로 지정하지 않으면 각 단어마다 지정 했던 값의 크기에 가중치 값이 영향을 크게 받음\n",
        "- keras.utils.to_categorical() 원핫인코딩 생성\n",
        "- 이진 분류이므로 출력 층 1개의 뉴런과 시그모이드 활성화 함수 사용해서 생성\n",
        " "
      ]
    },
    {
      "cell_type": "code",
      "execution_count": 19,
      "metadata": {
        "id": "45BtHGKX6kQX"
      },
      "outputs": [],
      "source": [
        "from tensorflow import keras\n",
        "\n",
        "model = keras.Sequential()\n",
        "\n",
        "# output=8 마지막 은닉상태의 뉴런 갯수 지정\n",
        "model.add(keras.layers.SimpleRNN(8, input_shape=(100, 500)))\n",
        "# output=1\n",
        "model.add(keras.layers.Dense(1, activation='sigmoid'))"
      ]
    },
    {
      "cell_type": "code",
      "execution_count": 21,
      "metadata": {
        "id": "oXIWyOuw6kQY"
      },
      "outputs": [],
      "source": [
        "# 원핫인코딩\n",
        "train_oh = keras.utils.to_categorical(train_seq)"
      ]
    },
    {
      "cell_type": "code",
      "execution_count": null,
      "metadata": {
        "colab": {
          "base_uri": "https://localhost:8080/"
        },
        "id": "VD94WiRT6kQY",
        "outputId": "d2074cc9-cdb3-4c73-e9ca-1318fdd34034"
      },
      "outputs": [
        {
          "name": "stdout",
          "output_type": "stream",
          "text": [
            "(20000, 100, 500)\n"
          ]
        }
      ],
      "source": [
        "# 리뷰 1개 100개의 단어(1차원)가 100 x 500크기의 2차원으로 변환 \n",
        "print(train_oh.shape)"
      ]
    },
    {
      "cell_type": "code",
      "execution_count": 22,
      "metadata": {
        "colab": {
          "base_uri": "https://localhost:8080/"
        },
        "id": "VIVSHwJg6kQY",
        "outputId": "2ecce2e4-862f-497d-cfd2-1a2ec55ebcf7"
      },
      "outputs": [
        {
          "output_type": "stream",
          "name": "stdout",
          "text": [
            "[0. 0. 0. 0. 0. 0. 0. 0. 0. 0. 1. 0.]\n"
          ]
        }
      ],
      "source": [
        "# 첫 번째 리뷰의 첫 번째 단어 10의 변환 값 확인 => 11번째\n",
        "print(train_oh[0][0][:12])"
      ]
    },
    {
      "cell_type": "code",
      "source": [
        "# 첫 번째 리뷰의 두 번째 단어 4의 변환 값 확인 => 5번째\n",
        "print(train_oh[0][1][:12])"
      ],
      "metadata": {
        "colab": {
          "base_uri": "https://localhost:8080/"
        },
        "id": "J7RL-7s1-DM6",
        "outputId": "ca281512-b8b9-4681-cdf1-237a6dcf73f8"
      },
      "execution_count": 24,
      "outputs": [
        {
          "output_type": "stream",
          "name": "stdout",
          "text": [
            "[0. 0. 0. 0. 1. 0. 0. 0. 0. 0. 0. 0.]\n"
          ]
        }
      ]
    },
    {
      "cell_type": "code",
      "source": [
        "# 6 번째 리뷰의 첫 번째 단어 0의 변환 값 확인 => 1번째\n",
        "print(train_oh[5][0][:12])"
      ],
      "metadata": {
        "colab": {
          "base_uri": "https://localhost:8080/"
        },
        "id": "cm6mJNKr-UCf",
        "outputId": "b6242ad4-3779-4ff8-9518-3b2ed4b78ebe"
      },
      "execution_count": 25,
      "outputs": [
        {
          "output_type": "stream",
          "name": "stdout",
          "text": [
            "[1. 0. 0. 0. 0. 0. 0. 0. 0. 0. 0. 0.]\n"
          ]
        }
      ]
    },
    {
      "cell_type": "code",
      "execution_count": null,
      "metadata": {
        "colab": {
          "base_uri": "https://localhost:8080/"
        },
        "id": "CP3ivii46kQZ",
        "outputId": "6a669f1a-41fe-486a-e0e1-bd812d2b7aeb"
      },
      "outputs": [
        {
          "name": "stdout",
          "output_type": "stream",
          "text": [
            "1.0\n"
          ]
        }
      ],
      "source": [
        "print(np.sum(train_oh[0][0]))"
      ]
    },
    {
      "cell_type": "code",
      "execution_count": 26,
      "metadata": {
        "id": "vgijH6m26kQZ"
      },
      "outputs": [],
      "source": [
        "# 검증 세트 원핫인코딩\n",
        "val_oh = keras.utils.to_categorical(val_seq)"
      ]
    },
    {
      "cell_type": "code",
      "execution_count": 27,
      "metadata": {
        "colab": {
          "base_uri": "https://localhost:8080/"
        },
        "id": "0V0Svpuf6kQZ",
        "outputId": "bc31ccc3-b24d-472b-de6d-ff044c04b380"
      },
      "outputs": [
        {
          "output_type": "stream",
          "name": "stdout",
          "text": [
            "Model: \"sequential\"\n",
            "_________________________________________________________________\n",
            " Layer (type)                Output Shape              Param #   \n",
            "=================================================================\n",
            " simple_rnn (SimpleRNN)      (None, 8)                 4072      \n",
            "                                                                 \n",
            " dense (Dense)               (None, 1)                 9         \n",
            "                                                                 \n",
            "=================================================================\n",
            "Total params: 4,081\n",
            "Trainable params: 4,081\n",
            "Non-trainable params: 0\n",
            "_________________________________________________________________\n"
          ]
        }
      ],
      "source": [
        "# RNN 모델 구조 \n",
        "model.summary()"
      ]
    },
    {
      "cell_type": "code",
      "source": [
        "# 500 입력  * 8 뉴런 + 8 뉴런 * 은닉 뉴런 8 + 절편\n",
        "param_num = (500 * 8) + (8 * 8) + 8\n",
        "param_num "
      ],
      "metadata": {
        "colab": {
          "base_uri": "https://localhost:8080/"
        },
        "id": "nI-20OZMAG9S",
        "outputId": "6fc5c8cf-953a-4438-cd28-84b26ee5f8f8"
      },
      "execution_count": 28,
      "outputs": [
        {
          "output_type": "execute_result",
          "data": {
            "text/plain": [
              "4072"
            ]
          },
          "metadata": {},
          "execution_count": 28
        }
      ]
    },
    {
      "cell_type": "markdown",
      "metadata": {
        "id": "S22Hc-7L6kQZ"
      },
      "source": [
        "## 순환 신경망 훈련하기\n",
        "---\n",
        "- 옵티마이저 rmsprop 별도 생성,  학습률 기본값 0.001이 아닌 0.0004로 지정\n",
        "- 에포크 횟수 100, 미니 배치 크기 64\n",
        "- 체크 포인트와 조기 종료 지정"
      ]
    },
    {
      "cell_type": "code",
      "execution_count": 29,
      "metadata": {
        "colab": {
          "base_uri": "https://localhost:8080/"
        },
        "id": "YcwM299t6kQZ",
        "outputId": "ecbdfc83-c452-4f24-a985-d23c2d7fb331"
      },
      "outputs": [
        {
          "output_type": "stream",
          "name": "stdout",
          "text": [
            "Epoch 1/100\n",
            "313/313 [==============================] - 16s 46ms/step - loss: 0.7011 - accuracy: 0.4983 - val_loss: 0.6959 - val_accuracy: 0.5156\n",
            "Epoch 2/100\n",
            "313/313 [==============================] - 14s 43ms/step - loss: 0.6959 - accuracy: 0.5083 - val_loss: 0.6935 - val_accuracy: 0.5246\n",
            "Epoch 3/100\n",
            "313/313 [==============================] - 13s 42ms/step - loss: 0.6926 - accuracy: 0.5188 - val_loss: 0.6918 - val_accuracy: 0.5290\n",
            "Epoch 4/100\n",
            "313/313 [==============================] - 13s 43ms/step - loss: 0.6900 - accuracy: 0.5276 - val_loss: 0.6903 - val_accuracy: 0.5318\n",
            "Epoch 5/100\n",
            "313/313 [==============================] - 15s 47ms/step - loss: 0.6878 - accuracy: 0.5386 - val_loss: 0.6890 - val_accuracy: 0.5334\n",
            "Epoch 6/100\n",
            "313/313 [==============================] - 14s 43ms/step - loss: 0.6857 - accuracy: 0.5494 - val_loss: 0.6877 - val_accuracy: 0.5398\n",
            "Epoch 7/100\n",
            "313/313 [==============================] - 13s 42ms/step - loss: 0.6834 - accuracy: 0.5595 - val_loss: 0.6864 - val_accuracy: 0.5486\n",
            "Epoch 8/100\n",
            "313/313 [==============================] - 13s 43ms/step - loss: 0.6809 - accuracy: 0.5691 - val_loss: 0.6847 - val_accuracy: 0.5512\n",
            "Epoch 9/100\n",
            "313/313 [==============================] - 13s 42ms/step - loss: 0.6777 - accuracy: 0.5798 - val_loss: 0.6818 - val_accuracy: 0.5594\n",
            "Epoch 10/100\n",
            "313/313 [==============================] - 13s 43ms/step - loss: 0.6722 - accuracy: 0.5968 - val_loss: 0.6745 - val_accuracy: 0.5838\n",
            "Epoch 11/100\n",
            "313/313 [==============================] - 13s 43ms/step - loss: 0.6547 - accuracy: 0.6333 - val_loss: 0.6461 - val_accuracy: 0.6470\n",
            "Epoch 12/100\n",
            "313/313 [==============================] - 13s 42ms/step - loss: 0.6316 - accuracy: 0.6670 - val_loss: 0.6303 - val_accuracy: 0.6644\n",
            "Epoch 13/100\n",
            "313/313 [==============================] - 13s 42ms/step - loss: 0.6115 - accuracy: 0.6884 - val_loss: 0.6111 - val_accuracy: 0.6838\n",
            "Epoch 14/100\n",
            "313/313 [==============================] - 14s 46ms/step - loss: 0.5893 - accuracy: 0.7099 - val_loss: 0.5868 - val_accuracy: 0.7114\n",
            "Epoch 15/100\n",
            "313/313 [==============================] - 13s 42ms/step - loss: 0.5708 - accuracy: 0.7242 - val_loss: 0.5739 - val_accuracy: 0.7166\n",
            "Epoch 16/100\n",
            "313/313 [==============================] - 13s 42ms/step - loss: 0.5552 - accuracy: 0.7378 - val_loss: 0.5602 - val_accuracy: 0.7290\n",
            "Epoch 17/100\n",
            "313/313 [==============================] - 13s 43ms/step - loss: 0.5416 - accuracy: 0.7441 - val_loss: 0.5516 - val_accuracy: 0.7290\n",
            "Epoch 18/100\n",
            "313/313 [==============================] - 13s 43ms/step - loss: 0.5288 - accuracy: 0.7527 - val_loss: 0.5399 - val_accuracy: 0.7416\n",
            "Epoch 19/100\n",
            "313/313 [==============================] - 14s 44ms/step - loss: 0.5174 - accuracy: 0.7613 - val_loss: 0.5274 - val_accuracy: 0.7492\n",
            "Epoch 20/100\n",
            "313/313 [==============================] - 14s 43ms/step - loss: 0.5064 - accuracy: 0.7681 - val_loss: 0.5179 - val_accuracy: 0.7580\n",
            "Epoch 21/100\n",
            "313/313 [==============================] - 14s 44ms/step - loss: 0.4959 - accuracy: 0.7745 - val_loss: 0.5126 - val_accuracy: 0.7558\n",
            "Epoch 22/100\n",
            "313/313 [==============================] - 14s 45ms/step - loss: 0.4873 - accuracy: 0.7794 - val_loss: 0.5027 - val_accuracy: 0.7686\n",
            "Epoch 23/100\n",
            "313/313 [==============================] - 15s 46ms/step - loss: 0.4788 - accuracy: 0.7858 - val_loss: 0.4962 - val_accuracy: 0.7712\n",
            "Epoch 24/100\n",
            "313/313 [==============================] - 14s 44ms/step - loss: 0.4711 - accuracy: 0.7893 - val_loss: 0.4926 - val_accuracy: 0.7732\n",
            "Epoch 25/100\n",
            "313/313 [==============================] - 13s 42ms/step - loss: 0.4650 - accuracy: 0.7946 - val_loss: 0.4883 - val_accuracy: 0.7686\n",
            "Epoch 26/100\n",
            "313/313 [==============================] - 13s 43ms/step - loss: 0.4583 - accuracy: 0.7969 - val_loss: 0.4815 - val_accuracy: 0.7786\n",
            "Epoch 27/100\n",
            "313/313 [==============================] - 14s 44ms/step - loss: 0.4532 - accuracy: 0.8001 - val_loss: 0.4777 - val_accuracy: 0.7758\n",
            "Epoch 28/100\n",
            "313/313 [==============================] - 13s 42ms/step - loss: 0.4472 - accuracy: 0.8035 - val_loss: 0.4869 - val_accuracy: 0.7702\n",
            "Epoch 29/100\n",
            "313/313 [==============================] - 13s 43ms/step - loss: 0.4444 - accuracy: 0.8048 - val_loss: 0.4718 - val_accuracy: 0.7778\n",
            "Epoch 30/100\n",
            "313/313 [==============================] - 14s 44ms/step - loss: 0.4396 - accuracy: 0.8071 - val_loss: 0.4711 - val_accuracy: 0.7784\n",
            "Epoch 31/100\n",
            "313/313 [==============================] - 15s 46ms/step - loss: 0.4364 - accuracy: 0.8105 - val_loss: 0.4669 - val_accuracy: 0.7800\n",
            "Epoch 32/100\n",
            "313/313 [==============================] - 14s 44ms/step - loss: 0.4331 - accuracy: 0.8098 - val_loss: 0.4672 - val_accuracy: 0.7796\n",
            "Epoch 33/100\n",
            "313/313 [==============================] - 13s 43ms/step - loss: 0.4306 - accuracy: 0.8115 - val_loss: 0.4654 - val_accuracy: 0.7840\n",
            "Epoch 34/100\n",
            "313/313 [==============================] - 13s 42ms/step - loss: 0.4273 - accuracy: 0.8133 - val_loss: 0.4621 - val_accuracy: 0.7846\n",
            "Epoch 35/100\n",
            "313/313 [==============================] - 13s 43ms/step - loss: 0.4257 - accuracy: 0.8134 - val_loss: 0.4613 - val_accuracy: 0.7836\n",
            "Epoch 36/100\n",
            "313/313 [==============================] - 13s 43ms/step - loss: 0.4227 - accuracy: 0.8152 - val_loss: 0.4604 - val_accuracy: 0.7874\n",
            "Epoch 37/100\n",
            "313/313 [==============================] - 13s 42ms/step - loss: 0.4210 - accuracy: 0.8165 - val_loss: 0.4618 - val_accuracy: 0.7836\n",
            "Epoch 38/100\n",
            "313/313 [==============================] - 13s 42ms/step - loss: 0.4186 - accuracy: 0.8181 - val_loss: 0.4593 - val_accuracy: 0.7858\n",
            "Epoch 39/100\n",
            "313/313 [==============================] - 14s 44ms/step - loss: 0.4167 - accuracy: 0.8181 - val_loss: 0.4627 - val_accuracy: 0.7842\n",
            "Epoch 40/100\n",
            "313/313 [==============================] - 15s 46ms/step - loss: 0.4153 - accuracy: 0.8183 - val_loss: 0.4600 - val_accuracy: 0.7860\n",
            "Epoch 41/100\n",
            "313/313 [==============================] - 13s 42ms/step - loss: 0.4138 - accuracy: 0.8187 - val_loss: 0.4638 - val_accuracy: 0.7818\n"
          ]
        }
      ],
      "source": [
        "rmsprop = keras.optimizers.RMSprop(learning_rate=1e-4)\n",
        "model.compile(optimizer=rmsprop, loss='binary_crossentropy', \n",
        "              metrics=['accuracy'])\n",
        "\n",
        "checkpoint_cb = keras.callbacks.ModelCheckpoint('best-simplernn-model.h5', \n",
        "                                                save_best_only=True)\n",
        "early_stopping_cb = keras.callbacks.EarlyStopping(patience=3,\n",
        "                                                  restore_best_weights=True)\n",
        "\n",
        "history = model.fit(train_oh, train_target, epochs=100, batch_size=64,\n",
        "                    validation_data=(val_oh, val_target),\n",
        "                    callbacks=[checkpoint_cb, early_stopping_cb])"
      ]
    },
    {
      "cell_type": "markdown",
      "source": [
        "- 41번째 에포크에서 검증 소실이 줄지 않고 늘어남"
      ],
      "metadata": {
        "id": "Q93XHJ4VHmpd"
      }
    },
    {
      "cell_type": "code",
      "execution_count": 30,
      "metadata": {
        "colab": {
          "base_uri": "https://localhost:8080/",
          "height": 279
        },
        "id": "YS_5tIG26kQa",
        "outputId": "df273aa1-3c41-4f7e-a750-b0233b3c097e"
      },
      "outputs": [
        {
          "output_type": "display_data",
          "data": {
            "text/plain": [
              "<Figure size 432x288 with 1 Axes>"
            ],
            "image/png": "[encoded data removed]"
          },
          "metadata": {
            "needs_background": "light"
          }
        }
      ],
      "source": [
        "# 훈련 손실고 검증 손실 그래프 확인\n",
        "plt.plot(history.history['loss'])\n",
        "plt.plot(history.history['val_loss'])\n",
        "plt.xlabel('epoch')\n",
        "plt.ylabel('loss')\n",
        "plt.legend(['train', 'val'])\n",
        "plt.show()"
      ]
    },
    {
      "cell_type": "markdown",
      "metadata": {
        "id": "K_U_lVie6kQa"
      },
      "source": [
        "## 단어 임베딩을 사용하기 word embedding\n",
        "---\n",
        "- 원핫인코딩 변환은 입력 데이터가 엄청 커진다는 단점\n",
        "- 각 단어를 고정된 크기의 실수 벡터로 변환\n",
        "- 단어 임베딩 벡터는 원핫인코딩보다 의미있는 값으로 채워 자연어 처리에서 더 좋은 성능을 내는 경우가 많음\n",
        "- 케라스에서는 임베드 층 제공, keara.layers.Embedding 클래스\n"
      ]
    },
    {
      "cell_type": "code",
      "execution_count": 31,
      "metadata": {
        "colab": {
          "base_uri": "https://localhost:8080/"
        },
        "id": "Ofl-Ifev6kQa",
        "outputId": "983c9078-f950-418f-f086-293e2b12219d"
      },
      "outputs": [
        {
          "output_type": "stream",
          "name": "stdout",
          "text": [
            "Model: \"sequential_1\"\n",
            "_________________________________________________________________\n",
            " Layer (type)                Output Shape              Param #   \n",
            "=================================================================\n",
            " embedding (Embedding)       (None, 100, 16)           8000      \n",
            "                                                                 \n",
            " simple_rnn_1 (SimpleRNN)    (None, 8)                 200       \n",
            "                                                                 \n",
            " dense_1 (Dense)             (None, 1)                 9         \n",
            "                                                                 \n",
            "=================================================================\n",
            "Total params: 8,209\n",
            "Trainable params: 8,209\n",
            "Non-trainable params: 0\n",
            "_________________________________________________________________\n"
          ]
        }
      ],
      "source": [
        "# 모델 생성\n",
        "model2 = keras.Sequential()\n",
        "\n",
        "# 어휘 사전 500, 단어 임베팅 벡터 크기 16, 입력 크기 100 단어\n",
        "model2.add(keras.layers.Embedding(500, 16, input_length=100))\n",
        "model2.add(keras.layers.SimpleRNN(8))\n",
        "model2.add(keras.layers.Dense(1, activation='sigmoid'))\n",
        "\n",
        "model2.summary()"
      ]
    },
    {
      "cell_type": "code",
      "execution_count": 32,
      "metadata": {
        "colab": {
          "base_uri": "https://localhost:8080/"
        },
        "id": "78TUrJAs6kQa",
        "outputId": "591a3e53-defa-406f-aaf4-3ee34191a037"
      },
      "outputs": [
        {
          "output_type": "stream",
          "name": "stdout",
          "text": [
            "Epoch 1/100\n",
            "313/313 [==============================] - 8s 23ms/step - loss: 0.6950 - accuracy: 0.5125 - val_loss: 0.6941 - val_accuracy: 0.5054\n",
            "Epoch 2/100\n",
            "313/313 [==============================] - 7s 22ms/step - loss: 0.6886 - accuracy: 0.5399 - val_loss: 0.6896 - val_accuracy: 0.5252\n",
            "Epoch 3/100\n",
            "313/313 [==============================] - 7s 22ms/step - loss: 0.6828 - accuracy: 0.5687 - val_loss: 0.6849 - val_accuracy: 0.5532\n",
            "Epoch 4/100\n",
            "313/313 [==============================] - 7s 21ms/step - loss: 0.6756 - accuracy: 0.5982 - val_loss: 0.6775 - val_accuracy: 0.5808\n",
            "Epoch 5/100\n",
            "313/313 [==============================] - 8s 26ms/step - loss: 0.6635 - accuracy: 0.6233 - val_loss: 0.6602 - val_accuracy: 0.6266\n",
            "Epoch 6/100\n",
            "313/313 [==============================] - 7s 22ms/step - loss: 0.6207 - accuracy: 0.6891 - val_loss: 0.6144 - val_accuracy: 0.6820\n",
            "Epoch 7/100\n",
            "313/313 [==============================] - 7s 23ms/step - loss: 0.5865 - accuracy: 0.7226 - val_loss: 0.5917 - val_accuracy: 0.7158\n",
            "Epoch 8/100\n",
            "313/313 [==============================] - 7s 23ms/step - loss: 0.5676 - accuracy: 0.7380 - val_loss: 0.5756 - val_accuracy: 0.7260\n",
            "Epoch 9/100\n",
            "313/313 [==============================] - 7s 23ms/step - loss: 0.5516 - accuracy: 0.7481 - val_loss: 0.5652 - val_accuracy: 0.7260\n",
            "Epoch 10/100\n",
            "313/313 [==============================] - 7s 22ms/step - loss: 0.5368 - accuracy: 0.7559 - val_loss: 0.5467 - val_accuracy: 0.7426\n",
            "Epoch 11/100\n",
            "313/313 [==============================] - 7s 22ms/step - loss: 0.5193 - accuracy: 0.7673 - val_loss: 0.5389 - val_accuracy: 0.7416\n",
            "Epoch 12/100\n",
            "313/313 [==============================] - 7s 22ms/step - loss: 0.5046 - accuracy: 0.7741 - val_loss: 0.5215 - val_accuracy: 0.7552\n",
            "Epoch 13/100\n",
            "313/313 [==============================] - 7s 22ms/step - loss: 0.4904 - accuracy: 0.7806 - val_loss: 0.5119 - val_accuracy: 0.7606\n",
            "Epoch 14/100\n",
            "313/313 [==============================] - 7s 22ms/step - loss: 0.4779 - accuracy: 0.7870 - val_loss: 0.5034 - val_accuracy: 0.7644\n",
            "Epoch 15/100\n",
            "313/313 [==============================] - 7s 22ms/step - loss: 0.4680 - accuracy: 0.7909 - val_loss: 0.4936 - val_accuracy: 0.7714\n",
            "Epoch 16/100\n",
            "313/313 [==============================] - 8s 26ms/step - loss: 0.4595 - accuracy: 0.7965 - val_loss: 0.4900 - val_accuracy: 0.7722\n",
            "Epoch 17/100\n",
            "313/313 [==============================] - 7s 22ms/step - loss: 0.4512 - accuracy: 0.8020 - val_loss: 0.4843 - val_accuracy: 0.7790\n",
            "Epoch 18/100\n",
            "313/313 [==============================] - 7s 22ms/step - loss: 0.4446 - accuracy: 0.8055 - val_loss: 0.4846 - val_accuracy: 0.7762\n",
            "Epoch 19/100\n",
            "313/313 [==============================] - 7s 22ms/step - loss: 0.4390 - accuracy: 0.8069 - val_loss: 0.4744 - val_accuracy: 0.7844\n",
            "Epoch 20/100\n",
            "313/313 [==============================] - 7s 22ms/step - loss: 0.4332 - accuracy: 0.8116 - val_loss: 0.4723 - val_accuracy: 0.7820\n",
            "Epoch 21/100\n",
            "313/313 [==============================] - 8s 25ms/step - loss: 0.4297 - accuracy: 0.8115 - val_loss: 0.4692 - val_accuracy: 0.7856\n",
            "Epoch 22/100\n",
            "313/313 [==============================] - 7s 23ms/step - loss: 0.4236 - accuracy: 0.8148 - val_loss: 0.4689 - val_accuracy: 0.7828\n",
            "Epoch 23/100\n",
            "313/313 [==============================] - 7s 22ms/step - loss: 0.4203 - accuracy: 0.8185 - val_loss: 0.4651 - val_accuracy: 0.7854\n",
            "Epoch 24/100\n",
            "313/313 [==============================] - 7s 22ms/step - loss: 0.4164 - accuracy: 0.8210 - val_loss: 0.4626 - val_accuracy: 0.7864\n",
            "Epoch 25/100\n",
            "313/313 [==============================] - 7s 23ms/step - loss: 0.4130 - accuracy: 0.8209 - val_loss: 0.4647 - val_accuracy: 0.7850\n",
            "Epoch 26/100\n",
            "313/313 [==============================] - 7s 23ms/step - loss: 0.4101 - accuracy: 0.8231 - val_loss: 0.4600 - val_accuracy: 0.7850\n",
            "Epoch 27/100\n",
            "313/313 [==============================] - 7s 23ms/step - loss: 0.4071 - accuracy: 0.8259 - val_loss: 0.4569 - val_accuracy: 0.7896\n",
            "Epoch 28/100\n",
            "313/313 [==============================] - 7s 22ms/step - loss: 0.4044 - accuracy: 0.8274 - val_loss: 0.4571 - val_accuracy: 0.7864\n",
            "Epoch 29/100\n",
            "313/313 [==============================] - 7s 23ms/step - loss: 0.4016 - accuracy: 0.8285 - val_loss: 0.4588 - val_accuracy: 0.7896\n",
            "Epoch 30/100\n",
            "313/313 [==============================] - 7s 22ms/step - loss: 0.3999 - accuracy: 0.8292 - val_loss: 0.4555 - val_accuracy: 0.7848\n",
            "Epoch 31/100\n",
            "313/313 [==============================] - 7s 22ms/step - loss: 0.3970 - accuracy: 0.8316 - val_loss: 0.4563 - val_accuracy: 0.7842\n",
            "Epoch 32/100\n",
            "313/313 [==============================] - 7s 22ms/step - loss: 0.3955 - accuracy: 0.8309 - val_loss: 0.4546 - val_accuracy: 0.7860\n",
            "Epoch 33/100\n",
            "313/313 [==============================] - 8s 27ms/step - loss: 0.3931 - accuracy: 0.8318 - val_loss: 0.4562 - val_accuracy: 0.7888\n",
            "Epoch 34/100\n",
            "313/313 [==============================] - 7s 22ms/step - loss: 0.3913 - accuracy: 0.8337 - val_loss: 0.4642 - val_accuracy: 0.7864\n",
            "Epoch 35/100\n",
            "313/313 [==============================] - 7s 23ms/step - loss: 0.3899 - accuracy: 0.8340 - val_loss: 0.4549 - val_accuracy: 0.7870\n"
          ]
        }
      ],
      "source": [
        "#  모델 훈련\n",
        "rmsprop = keras.optimizers.RMSprop(learning_rate=1e-4)\n",
        "model2.compile(optimizer=rmsprop, loss='binary_crossentropy', \n",
        "               metrics=['accuracy'])\n",
        "\n",
        "checkpoint_cb = keras.callbacks.ModelCheckpoint('best-embedding-model.h5', \n",
        "                                                save_best_only=True)\n",
        "early_stopping_cb = keras.callbacks.EarlyStopping(patience=3,\n",
        "                                                  restore_best_weights=True)\n",
        "\n",
        "history = model2.fit(train_seq, train_target, epochs=100, batch_size=64,\n",
        "                     validation_data=(val_seq, val_target),\n",
        "                     callbacks=[checkpoint_cb, early_stopping_cb])"
      ]
    },
    {
      "cell_type": "markdown",
      "source": [
        "- 원핫인코딩보다 더 빨리 조기 종료되고 나은 좋은 결과가 나왔음\n",
        "```\n",
        "Epoch 41/100\n",
        "313/313 [==============================] - 13s 42ms/step - loss: 0.4138 - accuracy: 0.8187 - val_loss: 0.4638 - val_accuracy: 0.7818\n",
        "```"
      ],
      "metadata": {
        "id": "_mmOVm8DObBZ"
      }
    },
    {
      "cell_type": "code",
      "execution_count": 33,
      "metadata": {
        "colab": {
          "base_uri": "https://localhost:8080/",
          "height": 279
        },
        "id": "brUvKwLt6kQb",
        "outputId": "096c6727-cced-453f-f7d5-516cd124e0d1",
        "tags": []
      },
      "outputs": [
        {
          "output_type": "display_data",
          "data": {
            "text/plain": [
              "<Figure size 432x288 with 1 Axes>"
            ],
            "image/png": "[encoded data removed]"
          },
          "metadata": {
            "needs_background": "light"
          }
        }
      ],
      "source": [
        "# 훈련 손실과 검증 손실 그래프\n",
        "plt.plot(history.history['loss'])\n",
        "plt.plot(history.history['val_loss'])\n",
        "plt.xlabel('epoch')\n",
        "plt.ylabel('loss')\n",
        "plt.legend(['train', 'val'])\n",
        "plt.show()"
      ]
    },
    {
      "cell_type": "code",
      "source": [],
      "metadata": {
        "id": "jpVTrD-HPUjj"
      },
      "execution_count": null,
      "outputs": []
    }
  ],
  "metadata": {
    "colab": {
      "provenance": [],
      "collapsed_sections": [],
      "include_colab_link": true
    },
    "kernelspec": {
      "display_name": "default:Python",
      "language": "python",
      "name": "conda-env-default-py"
    },
    "language_info": {
      "codemirror_mode": {
        "name": "ipython",
        "version": 3
      },
      "file_extension": ".py",
      "mimetype": "text/x-python",
      "name": "python",
      "nbconvert_exporter": "python",
      "pygments_lexer": "ipython3",
      "version": "3.9.10"
    }
  },
  "nbformat": 4,
  "nbformat_minor": 0
}